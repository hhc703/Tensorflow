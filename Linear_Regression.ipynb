{
  "nbformat": 4,
  "nbformat_minor": 0,
  "metadata": {
    "colab": {
      "name": "Linear Regression.ipynb",
      "provenance": [],
      "authorship_tag": "ABX9TyPzuzbBYqNjusJq5xAdoikP",
      "include_colab_link": true
    },
    "kernelspec": {
      "name": "python3",
      "display_name": "Python 3"
    },
    "language_info": {
      "name": "python"
    }
  },
  "cells": [
    {
      "cell_type": "markdown",
      "metadata": {
        "id": "view-in-github",
        "colab_type": "text"
      },
      "source": [
        "<a href=\"https://colab.research.google.com/github/hhc703/Tensorflow/blob/main/Linear_Regression.ipynb\" target=\"_parent\"><img src=\"https://colab.research.google.com/assets/colab-badge.svg\" alt=\"Open In Colab\"/></a>"
      ]
    },
    {
      "cell_type": "code",
      "execution_count": null,
      "metadata": {
        "id": "yHPxmeOfWzfw"
      },
      "outputs": [],
      "source": [
        "import tensorflow as tf\n",
        "import numpy as np"
      ]
    },
    {
      "cell_type": "code",
      "source": [
        "#데이터 준비\n",
        "x_train = [[73, 80, 75],\n",
        "           [93, 88, 83],\n",
        "           [89, 91, 90],\n",
        "           [96, 98, 100],\n",
        "           [73, 66, 70]]\n",
        "y_train = [[152], [185], [180], [196], [142]]"
      ],
      "metadata": {
        "id": "2MhVkyKFXHp1"
      },
      "execution_count": null,
      "outputs": []
    },
    {
      "cell_type": "code",
      "source": [
        "#변경 가능한 변수로 생성\n",
        "W = tf.Variable(tf.random.normal([3]), name=\"weight\")\n",
        "b = tf.Variable(tf.random.normal([1]), name=\"bias\")"
      ],
      "metadata": {
        "id": "Lfiz1eCOXeUh"
      },
      "execution_count": null,
      "outputs": []
    },
    {
      "cell_type": "code",
      "source": [
        "#keras의 optimizer로 확률적 경사 하강법 적용\n",
        "sgd = tf.keras.optimizers.SGD(learning_rate=1e-5)"
      ],
      "metadata": {
        "id": "T6vPqIxVXhkl"
      },
      "execution_count": null,
      "outputs": []
    },
    {
      "cell_type": "code",
      "source": [
        "#순차 모델 생성\n",
        "model = tf.keras.models.Sequential()\n",
        "#층 하나 추가 입력 파라미터 3개\n",
        "model.add(tf.keras.layers.Dense(1, input_dim = 3))"
      ],
      "metadata": {
        "id": "jQE_AEOaXsfB"
      },
      "execution_count": null,
      "outputs": []
    },
    {
      "cell_type": "code",
      "source": [
        "#mse 손실함수 적용, 옵티마이저 적용\n",
        "model.compile(loss='mean_squared_error',optimizer=sgd)"
      ],
      "metadata": {
        "id": "FHS_MmkxXuzw"
      },
      "execution_count": null,
      "outputs": []
    },
    {
      "cell_type": "code",
      "source": [
        "model.fit(x_train,y_train,epochs=2000)"
      ],
      "metadata": {
        "id": "VUvJ2jxCXw7F"
      },
      "execution_count": null,
      "outputs": []
    },
    {
      "cell_type": "code",
      "source": [
        "#가중치, 편향 출력\n",
        "print(model.weights)"
      ],
      "metadata": {
        "colab": {
          "base_uri": "https://localhost:8080/"
        },
        "id": "sXVDAOVVXyw8",
        "outputId": "03182620-5b18-4e54-b182-dc7de425214a"
      },
      "execution_count": null,
      "outputs": [
        {
          "output_type": "stream",
          "name": "stdout",
          "text": [
            "[<tf.Variable 'dense_1/kernel:0' shape=(3, 1) dtype=float32, numpy=\n",
            "array([[1.5268672 ],\n",
            "       [0.29723155],\n",
            "       [0.19667141]], dtype=float32)>, <tf.Variable 'dense_1/bias:0' shape=(1,) dtype=float32, numpy=array([0.00963229], dtype=float32)>]\n"
          ]
        }
      ]
    },
    {
      "cell_type": "code",
      "source": [
        "#예측 해보가\n",
        "print(model.predict(np.array([[73, 80, 75]])))"
      ],
      "metadata": {
        "colab": {
          "base_uri": "https://localhost:8080/"
        },
        "id": "XqQxc8a9Ye7q",
        "outputId": "ff9bf349-f2fb-4f83-ba7b-b5c7e98a144c"
      },
      "execution_count": null,
      "outputs": [
        {
          "output_type": "stream",
          "name": "stdout",
          "text": [
            "[[149.9998]]\n"
          ]
        }
      ]
    }
  ]
}